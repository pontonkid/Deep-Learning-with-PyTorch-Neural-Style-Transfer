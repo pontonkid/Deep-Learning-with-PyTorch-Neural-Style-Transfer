{
  "nbformat": 4,
  "nbformat_minor": 0,
  "metadata": {
    "colab": {
      "provenance": [],
      "authorship_tag": "ABX9TyNtDwFvwN78VPgNLckUJu9u"
    },
    "kernelspec": {
      "name": "python3",
      "display_name": "Python 3"
    },
    "language_info": {
      "name": "python"
    }
  },
  "cells": [
    {
      "cell_type": "code",
      "execution_count": null,
      "metadata": {
        "id": "7L9LlF7mCrZ6"
      },
      "outputs": [],
      "source": [
        "!pip install cohere"
      ]
    },
    {
      "cell_type": "code",
      "source": [
        "!pip install gradio"
      ],
      "metadata": {
        "id": "F4FBX6pSDU_s"
      },
      "execution_count": null,
      "outputs": []
    },
    {
      "cell_type": "code",
      "source": [
        "\n",
        "import cohere\n",
        "\n",
        "# initialize Cohere client\n",
        "co = cohere.Client(\"E4YAyUyM0rKVUDlKULKmDK7JayiV8SmfDt4RnGKv\")\n",
        "\n",
        "\n",
        "conversation=\"\"\"\n",
        "Senior Dev: Hey, have you seen the latest pull request for the authentication module?\n",
        "Junior Dev: No, not yet. What's in it?\n",
        "Senior Dev: They've added support for JWT tokens, so we can use that instead of session cookies for authentication.\n",
        "Junior Dev: Oh, that's great. I've been wanting to switch to JWT for a while now.\n",
        "Senior Dev: Yeah, it's definitely more secure and scalable. I've reviewed the code and it looks good, so go ahead and merge it if you're comfortable with it.\n",
        "Junior Dev: Will do, thanks for the heads up.\n",
        "\"\"\"\n",
        "\n",
        "\n",
        "response = co.summarize( conversation,\n",
        "    model='summarize-xlarge', \n",
        "    length='short',\n",
        "    extractiveness='high',\n",
        "    temperature = 0.5,\n",
        ")\n",
        "summary = response.summary\n",
        "\n",
        "print(summary)\n"
      ],
      "metadata": {
        "colab": {
          "base_uri": "https://localhost:8080/"
        },
        "id": "A-V4W2OmD7vm",
        "outputId": "2b2ea6a4-7b73-4f01-9ba5-fe0157e4b044"
      },
      "execution_count": 4,
      "outputs": [
        {
          "output_type": "stream",
          "name": "stdout",
          "text": [
            "They've added support for JWT tokens, so they can use that instead of session cookies for authentication.\n"
          ]
        }
      ]
    },
    {
      "cell_type": "code",
      "source": [
        "import gradio as gr \n",
        "co = cohere.Client(\"E4YAyUyM0rKVUDlKULKmDK7JayiV8SmfDt4RnGKv\")\n",
        "\n",
        "\n",
        "def chat_summarizer(conversation):\n",
        "    # generate summary using Cohere API\n",
        "    response = co.summarize(conversation, model='summarize-xlarge',length='short', extractiveness='high', temperature=0.5)\n",
        "    summary = response.summary\n",
        "    \n",
        "    return summary\n",
        "\n",
        "\n",
        "\n",
        "chat_input = gr.inputs.Textbox(lines=10, label=\"Conversation\")\n",
        "chat_output = gr.outputs.Textbox(label=\"Summary\")\n",
        "\n",
        "chat_interface = gr.Interface(fn=chat_summarizer, inputs=chat_input, outputs=chat_output, \n",
        "                              title=\"Chat Summarizer\", description=\"This app generates a summary of a chat conversation using Cohere API.\")\n",
        "\n",
        "chat_interface.launch(share= True)"
      ],
      "metadata": {
        "colab": {
          "base_uri": "https://localhost:8080/",
          "height": 750
        },
        "id": "bSYDbUX2EcpC",
        "outputId": "82af8619-a868-402e-b11c-c94dc9ef49d8"
      },
      "execution_count": 12,
      "outputs": [
        {
          "output_type": "stream",
          "name": "stderr",
          "text": [
            "/usr/local/lib/python3.10/dist-packages/gradio/inputs.py:27: UserWarning: Usage of gradio.inputs is deprecated, and will not be supported in the future, please import your component from gradio.components\n",
            "  warnings.warn(\n",
            "/usr/local/lib/python3.10/dist-packages/gradio/deprecation.py:40: UserWarning: `optional` parameter is deprecated, and it has no effect\n",
            "  warnings.warn(value)\n",
            "/usr/local/lib/python3.10/dist-packages/gradio/deprecation.py:40: UserWarning: `numeric` parameter is deprecated, and it has no effect\n",
            "  warnings.warn(value)\n",
            "/usr/local/lib/python3.10/dist-packages/gradio/outputs.py:22: UserWarning: Usage of gradio.outputs is deprecated, and will not be supported in the future, please import your components from gradio.components\n",
            "  warnings.warn(\n"
          ]
        },
        {
          "output_type": "stream",
          "name": "stdout",
          "text": [
            "Colab notebook detected. To show errors in colab notebook, set debug=True in launch()\n",
            "Running on public URL: https://f515f8312bc6017eb1.gradio.live\n",
            "\n",
            "This share link expires in 72 hours. For free permanent hosting and GPU upgrades (NEW!), check out Spaces: https://huggingface.co/spaces\n"
          ]
        },
        {
          "output_type": "display_data",
          "data": {
            "text/plain": [
              "<IPython.core.display.HTML object>"
            ],
            "text/html": [
              "<div><iframe src=\"https://f515f8312bc6017eb1.gradio.live\" width=\"100%\" height=\"500\" allow=\"autoplay; camera; microphone; clipboard-read; clipboard-write;\" frameborder=\"0\" allowfullscreen></iframe></div>"
            ]
          },
          "metadata": {}
        },
        {
          "output_type": "execute_result",
          "data": {
            "text/plain": []
          },
          "metadata": {},
          "execution_count": 12
        }
      ]
    }
  ]
}